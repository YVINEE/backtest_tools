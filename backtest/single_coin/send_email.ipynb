{
 "cells": [
  {
   "cell_type": "code",
   "execution_count": null,
   "metadata": {},
   "outputs": [],
   "source": [
    "import mailtrap as mt\n",
    "\n",
    "pair = \"CHAPI/USDT\"\n",
    "message = f'La paire {pair} a un volume insufisant'\n",
    "\n",
    "mail = mt.Mail(\n",
    "    sender=mt.Address(email=\"mailtrap@demomailtrap.com\", name=\"Bot\"),\n",
    "    to=[mt.Address(email=\"mere.doku@gmail.com\")],\n",
    "    subject=message,\n",
    "    text='Le volume moyen est de 990 USDT',\n",
    "    category=\"Integration Test\",\n",
    ")\n",
    "\n",
    "client = mt.MailtrapClient(token=\"d27ebfce94cfc54d8cf27a95cb073b36\")\n",
    "client.send(mail)"
   ]
  }
 ],
 "metadata": {
  "kernelspec": {
   "display_name": "Python 3",
   "language": "python",
   "name": "python3"
  },
  "language_info": {
   "codemirror_mode": {
    "name": "ipython",
    "version": 3
   },
   "file_extension": ".py",
   "mimetype": "text/x-python",
   "name": "python",
   "nbconvert_exporter": "python",
   "pygments_lexer": "ipython3",
   "version": "3.10.12"
  }
 },
 "nbformat": 4,
 "nbformat_minor": 2
}
